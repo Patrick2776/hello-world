{
 "cells": [
  {
   "cell_type": "markdown",
   "metadata": {},
   "source": [
    "# Problème:\n",
    "\n",
    "En langage python ou avec une simple calculatrice, nous ne pouvons pas obtenir toutes les décimales d'un nombre.\n",
    "\n",
    "Par exemple, en python on est limité à 20 décimales:"
   ]
  },
  {
   "cell_type": "code",
   "execution_count": 2,
   "metadata": {},
   "outputs": [
    {
     "data": {
      "text/plain": [
       "1.7142857142857142"
      ]
     },
     "execution_count": 2,
     "metadata": {},
     "output_type": "execute_result"
    }
   ],
   "source": [
    "# Dans ce document, vous trouverez des cellules comme celle-ci. \n",
    "# Ces cellules contiennent du code, souvent en python mais parfois aussi en html.\n",
    "# Quand vous verrez ce type de cellule, il vous faudra sélectionner la cellule puis utiliser la combinaison de touches Ctrl+Entrée\n",
    "# pour visualiser le contenu de la cellule.\n",
    "# Faîtes-le:\n",
    "\n",
    "12/7"
   ]
  },
  {
   "cell_type": "markdown",
   "metadata": {},
   "source": [
    "### Exercice:\n",
    "\n",
    "A la main, effectuez la division de $\\frac{26}{37}$.\n",
    "\n",
    "Observe-t-on encore une périodicité ?"
   ]
  },
  {
   "cell_type": "code",
   "execution_count": null,
   "metadata": {},
   "outputs": [],
   "source": [
    "26/37"
   ]
  },
  {
   "cell_type": "markdown",
   "metadata": {},
   "source": [
    "Est-ce toujours le cas ? Prenons $\\frac{12}{5}$"
   ]
  },
  {
   "cell_type": "code",
   "execution_count": null,
   "metadata": {},
   "outputs": [],
   "source": [
    "12/5"
   ]
  },
  {
   "cell_type": "markdown",
   "metadata": {},
   "source": [
    "Et pour $\\frac{1}{17}$ ?"
   ]
  },
  {
   "cell_type": "code",
   "execution_count": null,
   "metadata": {},
   "outputs": [],
   "source": [
    "1/17"
   ]
  },
  {
   "cell_type": "markdown",
   "metadata": {},
   "source": [
    "## Bilan provisoire:\n",
    "\n",
    "Il y a des divisions qui tombent \"juste\" et d'autres pas.\n",
    "\n",
    "Il y a donc différents types de nombres:\n",
    "\n",
    "- les (pour compléter, il suffit de cliquer puis d'écrire et de \"compiler\" par CTRL+Entrée)\n",
    "- les (à compléter)\n",
    "\n",
    "\n",
    "### Exercice: Démontrer que $\\frac{1}{3}$ n'est pas un décimal.\n",
    "\n",
    "### Réponse:\n",
    "\n",
    "Démonstration en vidéo ici https://youtu.be/PM7zVSUUqKE si vous ne pouvez pas lire la video ci-dessous:"
   ]
  },
  {
   "cell_type": "code",
   "execution_count": null,
   "metadata": {},
   "outputs": [],
   "source": [
    "%%HTML\n",
    "\n",
    "\n",
    "<iframe width=\"1400\" height=\"800\" src=\"https://www.youtube.com/embed/PM7zVSUUqKE\" frameborder=\"0\" allow=\"accelerometer; autoplay; encrypted-media; gyroscope; picture-in-picture\" allowfullscreen></iframe>"
   ]
  },
  {
   "cell_type": "markdown",
   "metadata": {},
   "source": [
    "### Exercice:\n",
    "\n",
    "Démontrer que 0,99999999....=1."
   ]
  },
  {
   "cell_type": "markdown",
   "metadata": {},
   "source": [
    "### Ainsi, le nombre de décimales données par python est insuffisant pour conclure sur la périodicité du développement. Et à la main, (à compléter).........."
   ]
  },
  {
   "cell_type": "markdown",
   "metadata": {},
   "source": [
    "## Algorithme:\n",
    "\n",
    "Essayons de trouver un algorithme qui permet de trouver \"toutes\" les décimales. \n",
    "\n",
    "Mais, au préalable, même si on \"sait faire\" la division posée de 5 par 7, quelle est la justification théorique de cette méthode ?\n",
    "\n",
    "Il s'agit tout simplement d'utiliser la division euclidienne. Par exemple, pour diviser 12 par 7, on écrit:\n",
    "\n",
    "$$12=7 \\times 1 +5 $$\n",
    "\n",
    "ou en langage python:\n",
    "\n",
    "$$12= 7\\times (12//7) + 12 \\% 7$$\n",
    "\n",
    "Ainsi, $$\\frac{12}{7}=\\frac{7 \\times 1 + 5}{7}=\\frac{7 \\times 1 }{7}+\\frac{ 5}{7}=1+\\frac{ 5}{7}$$\n",
    "\n"
   ]
  },
  {
   "cell_type": "code",
   "execution_count": null,
   "metadata": {},
   "outputs": [],
   "source": [
    "# quotient dans la divsion euclidienne de 12 par 7 \n",
    "12//7"
   ]
  },
  {
   "cell_type": "code",
   "execution_count": null,
   "metadata": {},
   "outputs": [],
   "source": [
    "# reste dans la divsion euclidienne de 12 par 7 \n",
    "12%7"
   ]
  },
  {
   "cell_type": "code",
   "execution_count": null,
   "metadata": {},
   "outputs": [],
   "source": [
    "# on vérife que 7 fois le quotient + le reste fait bien 12\n",
    "7*(12//7)+12%7"
   ]
  },
  {
   "cell_type": "markdown",
   "metadata": {},
   "source": [
    "### Commandes python:\n",
    "\n",
    "### a//b donne le quotient de la division euclidienne de a par b\n",
    "\n",
    "### a%b donne le reste de la division euclidienne de a par b"
   ]
  },
  {
   "cell_type": "markdown",
   "metadata": {},
   "source": [
    "### Exercice: \n",
    "\n",
    "Lancer l'exercice suivant pour tester vos connaissances sur la division euclidienne:\n",
    "\n"
   ]
  },
  {
   "cell_type": "code",
   "execution_count": null,
   "metadata": {},
   "outputs": [],
   "source": [
    "# Comme vous le constatez, le programme est commenté pour vous permettre de le comprendre\n",
    "\n",
    "import random # importation de la bibliothèque random qui permet de générer des nombres au hasard\n",
    "def division(): # le mot clé du langage python permet de définir des fonctions\n",
    "    a=0\n",
    "    b=0\n",
    "    rejouer=\"o\"\n",
    "    while rejouer==\"o\": # on répéte le jeu \n",
    "        a=random.randint(1,100) # on génére un nombre au hasard entre 1 et 100\n",
    "        b=random.randint(2,9) # on génére un nombre au hasard entre 2 et 9\n",
    "        quotient=a//b # calcul du quotient\n",
    "        reste=a%b # calcul du reste \n",
    "        reponse_quotient=int(input(\"Quel est le quotient \"+ str(a)+\"//\"+ str(b) +\" dans la division euclidienne de \" + str(a) +\" par \"+ str(b) + \" ? \"))\n",
    "        reponse_reste=int(input(\"Quel est le  reste \" + str(a)+\"%\"+str(b)+ \" dans la division euclidienne de \"+ str(a) +\" par \" + str(b) +  \" ? \"))\n",
    "        if reponse_quotient==quotient and reponse_reste==reste: ## le == est utilisé pour comparer des objets\n",
    "            print(\"Bonne réponse\") # print signifie afficher à l'écran\n",
    "        else:\n",
    "            print(\"Mauvaise réponse\")\n",
    "            print(\"Le quotient valait: \",quotient,\" et le reste valait: \", reste)\n",
    "        continuer=str(input(\"Voulez-vous rejouer O/n ?\"))\n",
    "        if continuer==\"\":\n",
    "            rejouer=\"o\"\n",
    "        else:\n",
    "            rejouer=\"n\"\n",
    "        \n",
    "division()      \n",
    "\n",
    "            "
   ]
  },
  {
   "cell_type": "markdown",
   "metadata": {},
   "source": [
    "On a vu que en notation python: $$\\frac{12}{7}=12 // 7 + \\frac{12 \\% 7 }{7}= 1 + \\frac{5}{7}=1,\\cdots$$\n",
    "\n",
    "Ainsi, 12//7 est la partie entière et $\\frac{5}{7}$ la partie décimale du nombre.\n",
    "\n",
    "Comment poursuivre ?\n",
    "\n",
    "Tout simplement en écrivant $$\\frac{5}{7}=\\frac{5 \\times 10 \\cdot 10^{-1}}{7}= \\frac{50}{7} \\times 10^{-1} $$ \n",
    "\n",
    "Donc, $$\\frac{12}{7}= 1 + \\frac{50}{7} \\times 10^{-1}$$\n",
    "\n",
    "\n",
    "Pour $\\frac{50}{7}$, on procède comme précédement:\n",
    "\n",
    "$$\\frac{50}{7}=50 // 7 + \\frac{50 \\% 7 }{7}= 7 + \\frac{1}{7}$$\n",
    "\n",
    "Au final, \n",
    "\n",
    "$$\\frac{12}{7}=1+ \\frac{50 }{7} \\cdot 10^{-1}= 1+  (7+\\frac{1}{7}) \\times 10^{-1} =1+ 7 \\times 10^{-1}+ \\frac{1}{7} \\times 10^{-1}=1,7+\\frac{1}{7} \\times 10^{-1}$$ \n",
    "\n",
    "Mais alors, $$\\frac{12}{7}= 1,7+\\frac{1}{7} \\times 10^{-1}=1,7+\\frac{1 \\times 10 }{7} \\times 10^{-2}$$\n",
    "\n",
    "Et on recommence avec $\\frac{10}{7}$.\n",
    "\n",
    "\n",
    "Faisons la décomposition avec les commandes python:"
   ]
  },
  {
   "cell_type": "code",
   "execution_count": null,
   "metadata": {},
   "outputs": [],
   "source": [
    "partie_entiere=12//7\n",
    "print(partie_entiere)\n",
    "\n",
    "reste = 12%7\n",
    "print(reste)"
   ]
  },
  {
   "cell_type": "markdown",
   "metadata": {},
   "source": [
    "Et on recommence avec 50/7:"
   ]
  },
  {
   "cell_type": "code",
   "execution_count": null,
   "metadata": {},
   "outputs": [],
   "source": [
    "partie_entiere=50//7\n",
    "print(partie_entiere)\n",
    "\n",
    "reste=50%7\n",
    "print(reste)"
   ]
  },
  {
   "cell_type": "markdown",
   "metadata": {},
   "source": [
    "Et on recommence avec 10*reste/7:"
   ]
  },
  {
   "cell_type": "code",
   "execution_count": null,
   "metadata": {},
   "outputs": [],
   "source": [
    "partie_entiere=10//7\n",
    "print(partie_entiere)\n",
    "\n",
    "reste = 10%7\n",
    "print(reste)"
   ]
  },
  {
   "cell_type": "markdown",
   "metadata": {},
   "source": [
    "Et on recommence avec 10*reste/7:"
   ]
  },
  {
   "cell_type": "code",
   "execution_count": null,
   "metadata": {},
   "outputs": [],
   "source": [
    "partie_entiere=30//7\n",
    "print(partie_entiere)"
   ]
  },
  {
   "cell_type": "code",
   "execution_count": null,
   "metadata": {},
   "outputs": [],
   "source": [
    "reste = 30%7\n",
    "print(reste)"
   ]
  },
  {
   "cell_type": "markdown",
   "metadata": {},
   "source": [
    "etc..\n",
    "\n",
    "Au final, on obtient: 1,714\n",
    "\n",
    "### D'où l'algorithme ( à compléter) qui suit cette logique:"
   ]
  },
  {
   "cell_type": "code",
   "execution_count": null,
   "metadata": {},
   "outputs": [],
   "source": [
    "# pour écrire dans cette cellule, il suffit de la rende active en cliquant dessus.\n",
    "# la fonction nommée division_logique prend 3 paramètres de noms explicites\n",
    "def division_logique(numerateur,denominateur,nombre_de_decimales):\n",
    "    for i in range(nombre_de_decimales): # on répéte autant de fois que de décimales souhaitées\n",
    "        partie_entiere=numerateur//denominateur\n",
    "        reste= \n",
    "        print(partie_entiere)\n",
    "        numerateur=                     \n",
    "\n",
    "division_logique(12,7,20)"
   ]
  },
  {
   "cell_type": "markdown",
   "metadata": {},
   "source": [
    "Il y a plusieurs défauts à ce programme:\n",
    "\n",
    "1) on évite les print dans une fonction (sauf en phase de test)\n",
    "\n",
    "2) il n' y a pas de return\n",
    "\n",
    "3) l'affichage est peu lisible\n",
    "\n",
    "### Version améliorée:\n"
   ]
  },
  {
   "cell_type": "code",
   "execution_count": null,
   "metadata": {},
   "outputs": [],
   "source": [
    "def developpement_fraction_en_decimales(numerateur,denominateur, nombre_de_decimales=114):# par défaut 114 décimales\n",
    "    resultat=\"\" # le développement sera contenu dans une chaine de caractères pour faciliter l'affichage\n",
    "    for i in range(nombre_de_decimales): # on répéte autant de fois que de décimales souhaitées\n",
    "        partie_entiere=numerateur//denominateur\n",
    "        if i==0:\n",
    "            resultat=resultat+str(partie_entiere)+\",\" # la 1ère division donne la partie avant la virgule\n",
    "        else:\n",
    "            resultat=resultat+str(partie_entiere) # str transforme le nombre en chaines de caractères\n",
    "        reste= numerateur%denominateur\n",
    "        numerateur=reste*10\n",
    "    return resultat"
   ]
  },
  {
   "cell_type": "code",
   "execution_count": null,
   "metadata": {},
   "outputs": [],
   "source": [
    "developpement_fraction_en_decimales(12,7,114)"
   ]
  },
  {
   "cell_type": "markdown",
   "metadata": {},
   "source": [
    "### Exercice: \n",
    "\n",
    "Utilisez la fonction developpement_fraction_en_decimales pour déterminer si le développement de $\\frac{1}{17}$ est périodique."
   ]
  },
  {
   "cell_type": "code",
   "execution_count": null,
   "metadata": {},
   "outputs": [],
   "source": [
    "developpement_fraction_en_decimales()"
   ]
  },
  {
   "cell_type": "markdown",
   "metadata": {},
   "source": [
    "Si oui, quelle est la période ? ( à compléter)"
   ]
  },
  {
   "cell_type": "markdown",
   "metadata": {},
   "source": [
    "### Exercice: \n",
    "\n",
    "Utilisez la fonction developpement_fraction_en_decimales pour déterminer le développement des fractions suivantes:\n",
    "\n",
    "$\\frac{25}{33}$, $\\frac{71}{27}$, $\\frac{701}{13}$ $\\frac{800}{7}$\n",
    "\n",
    "Ces développements sont-ils périodiques ? Si oui, quelle est la période ?"
   ]
  },
  {
   "cell_type": "code",
   "execution_count": null,
   "metadata": {},
   "outputs": [],
   "source": [
    "developpement_fraction_en_decimales(25,33)"
   ]
  },
  {
   "cell_type": "markdown",
   "metadata": {},
   "source": [
    "$\\frac{25}{33}$ semble périodique de période (à compléter)"
   ]
  },
  {
   "cell_type": "code",
   "execution_count": null,
   "metadata": {},
   "outputs": [],
   "source": [
    "developpement_fraction_en_decimales()"
   ]
  },
  {
   "cell_type": "markdown",
   "metadata": {},
   "source": [
    "$\\frac{71}{27}$ semble (à compléter)"
   ]
  },
  {
   "cell_type": "code",
   "execution_count": null,
   "metadata": {},
   "outputs": [],
   "source": [
    "developpement_fraction_en_decimales()"
   ]
  },
  {
   "cell_type": "markdown",
   "metadata": {},
   "source": [
    "$\\frac{701}{13}$ semble (à compléter)"
   ]
  },
  {
   "cell_type": "code",
   "execution_count": null,
   "metadata": {},
   "outputs": [],
   "source": [
    "developpement_fraction_en_decimales()"
   ]
  },
  {
   "cell_type": "markdown",
   "metadata": {},
   "source": [
    "$\\frac{800}{7}$ semble (à compléter)"
   ]
  },
  {
   "cell_type": "markdown",
   "metadata": {},
   "source": [
    "### Exercice: \n",
    "\n",
    "Utilisez la fonction developpement_fraction_en_decimales pour déterminer le développement de $\\frac{73}{254}$."
   ]
  },
  {
   "cell_type": "code",
   "execution_count": null,
   "metadata": {},
   "outputs": [],
   "source": [
    "developpement_fraction_en_decimales(73,254)"
   ]
  },
  {
   "cell_type": "markdown",
   "metadata": {},
   "source": [
    "Qu'en pensez-vous ? (à compléter)"
   ]
  },
  {
   "cell_type": "markdown",
   "metadata": {},
   "source": [
    "#### Exercice:\n",
    "\n",
    "Il n'est pas toujours simple de visualiser une période si elle existe. Aussi, vous pouvez utiliser  le programme suivant qui détermine si une période existe pour trouver le développment décimal de $\\frac{73}{254}$ et $\\frac{344}{815}$:"
   ]
  },
  {
   "cell_type": "code",
   "execution_count": null,
   "metadata": {},
   "outputs": [],
   "source": [
    "def periode (numerateur,denominateur): # d'après http://gilles.dubois10.free.fr/Nombres/Rationnels/ddi.html\n",
    "    print('le développement décimal de ', numerateur,'/',denominateur, 'est')\n",
    "    partie_entiere=numerateur//denominateur \n",
    "    reste=numerateur%denominateur \n",
    "    liste_des_Restes=[reste] # on ajoute le premier reste à la liste des restes \n",
    "    liste_des_Decimales=[] \n",
    "    \n",
    "    while (True): # boucle interrompue par 'break' \n",
    "        decimale=(10*reste)//denominateur \n",
    "        reste=(10*reste)%denominateur \n",
    "        if (reste in liste_des_Restes): # si le reste est déja apparu \n",
    "            x=liste_des_Restes.index(reste) # on repère à quel endroit \n",
    "            liste_des_Decimales.append(decimale) # on ajoute la derniere décimale \n",
    "            break # on s'arrête \n",
    "        else: \n",
    "            liste_des_Restes.append(reste) # on ajoute le nouveau reste \n",
    "            liste_des_Decimales.append(decimale) # idem pour la nouvelle decimale \n",
    "    # on fabrique maintenant la chaîne formatée \n",
    "    S=str(partie_entiere)+',' # partie entière \n",
    "    \n",
    "    for i in liste_des_Decimales[:x]: # début du développement décimal \n",
    "        S=S +str(i) \n",
    "    print(S)\n",
    "    cycle=\"\"\n",
    "    for j in liste_des_Decimales[x:]:# on génére le cycle des décimales périodiques \n",
    "        cycle=cycle+str(j) \n",
    "    print(cycle)\n",
    "    print(cycle)\n",
    "    print('...')\n",
    "    \n",
    "# cette fonction n'est pas très académique: pas de return trop de print  mais elle fait le job"
   ]
  },
  {
   "cell_type": "code",
   "execution_count": null,
   "metadata": {},
   "outputs": [],
   "source": [
    "periode(73,254)"
   ]
  },
  {
   "cell_type": "code",
   "execution_count": null,
   "metadata": {},
   "outputs": [],
   "source": [
    "periode(344,815)"
   ]
  },
  {
   "cell_type": "markdown",
   "metadata": {},
   "source": [
    "#### Exercice:\n",
    "\n",
    "Choisissez des rationnels au hasard et déterminer leur période"
   ]
  },
  {
   "cell_type": "code",
   "execution_count": null,
   "metadata": {},
   "outputs": [],
   "source": [
    "periode(151,13)"
   ]
  },
  {
   "cell_type": "markdown",
   "metadata": {},
   "source": [
    "Si vous voulez des fractions au hasard utilisez cette fonction:"
   ]
  },
  {
   "cell_type": "code",
   "execution_count": null,
   "metadata": {},
   "outputs": [],
   "source": [
    "import ipywidgets as widgets\n",
    "from IPython.display import display\n",
    " \n",
    "import random\n",
    "\n",
    "def auhasard():\n",
    "    numerateur=random.randint(1,1000)\n",
    "    denominateur=random.randint(1,100)\n",
    "    return numerateur,denominateur\n",
    "\n",
    "\n",
    "btn = widgets.Button(description='Au hasard')\n",
    "display(btn)\n",
    " \n",
    " \n",
    "def my_event_handler(btn_object):\n",
    "    print(periode(auhasard()[0],auhasard()[1]))\n",
    " \n",
    "btn.on_click(my_event_handler)"
   ]
  },
  {
   "cell_type": "markdown",
   "metadata": {},
   "source": [
    "### Bilan:\n",
    "\n",
    "Il semble que toutes les fractions de la forme $\\frac{a}{b}$ avec $a$ et $b$ entiers, on parle alors des rationnels, aient ( à compléter).......... \n"
   ]
  },
  {
   "cell_type": "markdown",
   "metadata": {},
   "source": [
    "### Réciproque:\n",
    "\n",
    "Si on prend le nombre réel 0,343562 343562 ....., alors ce nombre peut-il s'écrire sous la forme d'un quotient de deux entiers, c'est à dire un rationnel ?\n",
    "\n",
    "La réponse est oui, testez:"
   ]
  },
  {
   "cell_type": "code",
   "execution_count": null,
   "metadata": {},
   "outputs": [],
   "source": [
    "periode(343562,999999)"
   ]
  },
  {
   "cell_type": "markdown",
   "metadata": {},
   "source": [
    "Si on prend le nombre réel 0,43125 43125 ....., alors ce nombre peut-il s'écrire sous la forme d'un quotient de deux entiers, c'est à dire un rationnel ?\n",
    "\n",
    "La réponse est oui, testez:"
   ]
  },
  {
   "cell_type": "code",
   "execution_count": null,
   "metadata": {},
   "outputs": [],
   "source": [
    "periode(43125,99999)"
   ]
  },
  {
   "cell_type": "markdown",
   "metadata": {},
   "source": [
    "### Exercice:\n",
    "\n",
    "En extrapolant l'exemple précédent, deviner le rationnel associé au nombre réel:\n",
    "\n",
    "1) 0,252 252 ....\n",
    "\n",
    "2) 0,123456789 123456789 ....\n",
    "\n",
    "3) 2,123456789 123456789 ....\n",
    "\n",
    "3) Plus difficile: 5,27 356 356 ...."
   ]
  },
  {
   "cell_type": "markdown",
   "metadata": {},
   "source": [
    "### Enoncer une propriété des nombres rationnels qui fait intervenir le  Développement Décimal Illimité: \n",
    "\n",
    "(à compléter)....\n",
    "\n"
   ]
  },
  {
   "cell_type": "markdown",
   "metadata": {},
   "source": [
    "### Compléments:\n",
    "\n",
    "Tous les nombres réels peuvents-ils s'écrire comme quotient de deux entiers ?\n",
    "\n",
    "La réponse est bien sûr non ! Considèrer le nombre 0,0123456789 10111213141516171819 20212223242526272829 ...."
   ]
  },
  {
   "cell_type": "markdown",
   "metadata": {},
   "source": [
    "### Exercice: \n",
    "\n",
    "Trouvez la suite des décimales de ce nombre. Et expliquez pourquoi ce nombre n'est pas un rationnel.\n",
    "\n",
    "Réponse:"
   ]
  },
  {
   "cell_type": "markdown",
   "metadata": {},
   "source": [
    "### Exercice: \n",
    "\n",
    "Construire une fonction nommée constante_de_Champernowne prenant en paramètres l'entier $n$ qui correspond au dernier nombre.\n",
    "\n",
    "Par exemple, constante_de_Champernowne(16) renverra 0,12345678910111213141516\n",
    "\n",
    "Dans un premier temps, on travaillera sur le nombre entier 12345678910111213..."
   ]
  },
  {
   "cell_type": "code",
   "execution_count": null,
   "metadata": {},
   "outputs": [],
   "source": [
    "def constante_de_Champernowne(n):\n",
    "    "
   ]
  },
  {
   "cell_type": "markdown",
   "metadata": {},
   "source": [
    "### Exercice:\n",
    "\n",
    "Ecrire une fonction nombre_puissance_de_2 qui prend un paramètre et renvoie le nombre 0,1248163264...\n",
    "\n",
    "PS: En python, $2^3$ s'écrit 2**3"
   ]
  },
  {
   "cell_type": "markdown",
   "metadata": {},
   "source": [
    "# Un nombre particulier:   $\\sqrt{2}$\n",
    "\n",
    "\n",
    "### $\\sqrt{2}$ est -il décimal ? \n",
    "\n",
    "En lisant cet article https://www.futura-sciences.com/sciences/dossiers/mathematiques-racine-carree-fabuleux-destin-2-680/page/7/ , trouvez la réponse:\n",
    "\n",
    "Réponse: ( à compléter)\n",
    "\n",
    "\n",
    "\n",
    "### $\\sqrt{2}$ est-il rationnel ?\n",
    "\n",
    "Supposons que $\\sqrt{2}$ est rationnel, alors comment doit-être son développement décimal ?\n",
    "\n",
    "Réponse: ( à compléter)"
   ]
  },
  {
   "cell_type": "markdown",
   "metadata": {},
   "source": [
    "## Recherchons les décimales de $\\sqrt{2}$ . \n",
    "\n",
    "Pour obtenir le nombre $\\sqrt{2}$ en python, il faut:"
   ]
  },
  {
   "cell_type": "code",
   "execution_count": null,
   "metadata": {},
   "outputs": [],
   "source": [
    "import math # on importe la bibliothèque math qui contient la procédure sqrt: square root donc racine carré\n",
    "math.sqrt(2)"
   ]
  },
  {
   "cell_type": "markdown",
   "metadata": {},
   "source": [
    "Mais nous n'avons que 16 décimales. C'est insuffisant pour \"voir\" si $\\sqrt{2}$ est un nombre rationnel (quotient de deux entiers)."
   ]
  },
  {
   "cell_type": "markdown",
   "metadata": {},
   "source": [
    "### Algorithme permettant d'obtenir \"toutes\" les décimales de $\\sqrt{2}$: \n",
    "\n",
    "Visualisez ce document sur la Méthode de Héron:\n",
    "\n",
    "Si vous visualisez pas la page web dans la cellule ci-dessous, c'est ici https://fr.vikidia.org/wiki/M%C3%A9thode_de_H%C3%A9ron"
   ]
  },
  {
   "cell_type": "code",
   "execution_count": null,
   "metadata": {},
   "outputs": [],
   "source": [
    "%%HTML\n",
    "\n",
    "\n",
    "<iframe width=\"1400\" height=\"1800\" src=\"https://fr.vikidia.org/wiki/M%C3%A9thode_de_H%C3%A9ron\" frameborder=\"0\" allow=\"accelerometer; autoplay; encrypted-media; gyroscope; picture-in-picture\" allowfullscreen></iframe>"
   ]
  },
  {
   "cell_type": "markdown",
   "metadata": {},
   "source": [
    "### Exercice:  Après lecture du document précédent, \n",
    "\n",
    "1) Justifier sur feuille ( écrire des mathématiques dans ce document demande la connaissance du langage Latex):\n",
    "\n",
    "Si $ x > \\sqrt{2}$ alors $\\frac{2}{x}< \\sqrt{2}$\n",
    "\n"
   ]
  },
  {
   "cell_type": "markdown",
   "metadata": {},
   "source": [
    "2) En déduire que si $x$ est une valeur approchée par excès de $\\sqrt{2}$, alors $\\frac{2}{x}$ est une valeur approchée par défaut de $\\sqrt{2}$."
   ]
  },
  {
   "cell_type": "markdown",
   "metadata": {},
   "source": [
    "3) Montrer de même que si $x$ est une valeur approchée par défaut de $\\sqrt{2}$, alors $\\frac{2}{x}$ est une valeur approchée par excès de $\\sqrt{2}$."
   ]
  },
  {
   "cell_type": "markdown",
   "metadata": {},
   "source": [
    "4) Justifier  l'égalité énoncée sans preuve:   $\\frac{x+\\frac{2}{x}}{2}-\\sqrt{2}=\\frac{(x-\\sqrt{2})^2}{2x}$"
   ]
  },
  {
   "cell_type": "markdown",
   "metadata": {},
   "source": [
    "5) En déduire que si $x>0$ alors $\\frac{x+\\frac{2}{x}}{2}>\\sqrt{2}$"
   ]
  },
  {
   "cell_type": "markdown",
   "metadata": {},
   "source": [
    "6) Montrer que $\\frac{x+\\frac{2}{x}}{2}-x=\\frac{2-x^2}{2x}$\n",
    "\n",
    "En déduire que si $x > \\sqrt{2}$, alors $\\sqrt{2}< \\frac{x+\\frac{2}{x}}{2}<x$\n",
    "\n",
    "Ainsi, si $x$ est une approximation par excès de $\\sqrt{2}$ alors $\\frac{x+\\frac{2}{x}}{2}$ sera encore une meilleure approximation par excès."
   ]
  },
  {
   "cell_type": "markdown",
   "metadata": {},
   "source": [
    "7) Appliquez à la main 4 fois l'algorithme de de la méthode de Héron en partant de x=2. La première étape est indiquée:"
   ]
  },
  {
   "cell_type": "markdown",
   "metadata": {},
   "source": [
    "$x=2$\n",
    "\n",
    "$\\frac{2}{x}=\\frac{2}{2}=1$\n",
    "\n",
    "$y=\\frac{x+\\frac{2}{x}}{2}=\\frac{2+1}{2}=\\frac{3}{2}$\n",
    "\n",
    "$x=\\frac{3}{2}$\n",
    "\n",
    "$\\frac{2}{x}=\\frac{2}{\\frac{3}{2}}=2 \\times \\frac{2}{3}=\\frac{4}{3}$\n",
    "\n",
    "etc.."
   ]
  },
  {
   "cell_type": "markdown",
   "metadata": {},
   "source": [
    "Quel encadrement de $\\sqrt{2}$ obtient-t-on alors ?"
   ]
  },
  {
   "cell_type": "markdown",
   "metadata": {},
   "source": [
    "8) Faites la même chose dans la console python, la première étape est indiquée:"
   ]
  },
  {
   "cell_type": "code",
   "execution_count": null,
   "metadata": {},
   "outputs": [],
   "source": [
    "approximation_par_exces=2 # approximation de départ\n",
    "approximation_par_defaut=2/approximation_par_exces\n",
    "print(\"Un encadrement de racine de 2 est: \", approximation_par_defaut, \" < racine de 2 <\",approximation_par_exces )"
   ]
  },
  {
   "cell_type": "markdown",
   "metadata": {},
   "source": [
    "9) Quelles sont alors les premières décimales de $\\sqrt{2}$ ? "
   ]
  },
  {
   "cell_type": "markdown",
   "metadata": {},
   "source": [
    "10) Compléter la fonction python suivante qui permet de calculer une approximation de $\\sqrt{2}$ avec le nombre de décimales exactes souhaitées:"
   ]
  },
  {
   "cell_type": "code",
   "execution_count": null,
   "metadata": {},
   "outputs": [],
   "source": [
    "def approximation_de_racine_de_2(nombre_de_decimales):\n",
    "    approximation=2\n",
    "    nouvelle_approximation=(approximation+2/approximation)/2 \n",
    "    while approximation-nouvelle_approximation > 10**(-nombre_de_decimales): # tant que l'écart entre les deux approximations est trop grande\n",
    "        approximation=\n",
    "        nouvelle_approximation=\n",
    "    return int(approximation*10**(nombre_de_decimales))/10**nombre_de_decimales"
   ]
  },
  {
   "cell_type": "markdown",
   "metadata": {},
   "source": [
    "11) Testez votre fonction avec nombre_de_decimales valant 3 puis 7 puis 20 puis 50. Que se passe-t-il ? Comparer avec la valeur donnée par python."
   ]
  },
  {
   "cell_type": "code",
   "execution_count": null,
   "metadata": {},
   "outputs": [],
   "source": [
    "approximation_de_racine_de_2(2)"
   ]
  },
  {
   "cell_type": "code",
   "execution_count": null,
   "metadata": {},
   "outputs": [],
   "source": [
    "import math\n",
    "math.sqrt(2)"
   ]
  },
  {
   "cell_type": "markdown",
   "metadata": {},
   "source": [
    "### Un meilleur algorithme"
   ]
  },
  {
   "cell_type": "markdown",
   "metadata": {},
   "source": [
    "Voici un algorithme qui permet d'avoir autant de décimales que voulues de $\\sqrt{2}$ (https://www.lucaswillems.com/fr/articles/15/calcul-des-decimales-de-racine-carree-de-2-en-python)"
   ]
  },
  {
   "cell_type": "code",
   "execution_count": null,
   "metadata": {},
   "outputs": [],
   "source": [
    "import math\n",
    "import decimal\n",
    "\n",
    "def valeurapprochee_de_racine_de_2(n):\n",
    "    p, q = 2, 1\n",
    "    nbDecimale = n\n",
    "    nbIt = math.ceil(math.log(nbDecimale, 2))\n",
    "    decimal.getcontext().prec = nbDecimale + 1\n",
    "    for i in range(1, nbIt + 1):\n",
    "        p, q = p * p + 2 * q * q, 2 * q * p\n",
    "    valeur=decimal.Decimal(p) / decimal.Decimal(q)\n",
    "    return str(valeur)\n",
    "\n",
    "valeurapprochee_de_racine_de_2(100)"
   ]
  },
  {
   "cell_type": "markdown",
   "metadata": {},
   "source": [
    "Alors $\\sqrt{2}$ est-il rationnel ? C'est à dire, peut-on trouver une périodicité dans ses décimales ?\n",
    "\n",
    "Par exemple, cherchons le nombre  de fois où 414 apparait dans les 100 premières décimales de $\\sqrt{2}$"
   ]
  },
  {
   "cell_type": "code",
   "execution_count": null,
   "metadata": {},
   "outputs": [],
   "source": [
    "valeurapprochee_de_racine_de_2(100).count('414')"
   ]
  },
  {
   "cell_type": "markdown",
   "metadata": {},
   "source": [
    "### Exercice:\n",
    "\n",
    "Cherchez le nombre de fois où 414 apparait dans les 10000 premières décimales de $\\sqrt{2}$"
   ]
  },
  {
   "cell_type": "code",
   "execution_count": null,
   "metadata": {},
   "outputs": [],
   "source": []
  },
  {
   "cell_type": "markdown",
   "metadata": {},
   "source": [
    "### Conjecture:\n",
    "\n",
    "D'après vous, expliquez votre démarche, $\\sqrt{2}$ est-il rationnel ?"
   ]
  },
  {
   "cell_type": "markdown",
   "metadata": {},
   "source": [
    "Réponse:"
   ]
  },
  {
   "cell_type": "markdown",
   "metadata": {},
   "source": [
    "### Démonstration:\n",
    "\n",
    "C'est ici https://youtu.be/xuijxhzmDgc si la cellule suivante ne fonctionne pas.\n"
   ]
  },
  {
   "cell_type": "code",
   "execution_count": null,
   "metadata": {},
   "outputs": [],
   "source": [
    "%%HTML\n",
    "\n",
    "\n",
    "<iframe width=\"1184\" height=\"666\" src=\"https://www.youtube.com/embed/xuijxhzmDgc\" frameborder=\"0\" allow=\"accelerometer; autoplay; encrypted-media; gyroscope; picture-in-picture\" allowfullscreen></iframe>"
   ]
  }
 ],
 "metadata": {
  "kernelspec": {
   "display_name": "Python 3",
   "language": "python",
   "name": "python3"
  },
  "language_info": {
   "codemirror_mode": {
    "name": "ipython",
    "version": 3
   },
   "file_extension": ".py",
   "mimetype": "text/x-python",
   "name": "python",
   "nbconvert_exporter": "python",
   "pygments_lexer": "ipython3",
   "version": "3.5.4"
  }
 },
 "nbformat": 4,
 "nbformat_minor": 4
}
